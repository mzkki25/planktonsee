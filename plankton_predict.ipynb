{
 "cells": [
  {
   "cell_type": "code",
   "execution_count": 3,
   "metadata": {},
   "outputs": [],
   "source": [
    "import matplotlib.pyplot as plt\n",
    "import os\n",
    "import random\n",
    "import pandas as pd\n",
    "import matplotlib.image as mpimg\n",
    "import seaborn as sns\n",
    "import torch    \n",
    "import cv2\n",
    "import numpy as np\n",
    "import requests\n",
    "import io\n",
    "import squarify\n",
    "import yaml\n",
    "import torchvision.transforms as transforms\n",
    "import warnings\n",
    "\n",
    "from ultralytics import YOLO\n",
    "from gradio_client import Client\n",
    "\n",
    "random.seed(42)\n",
    "np.random.seed(42)\n",
    "warnings.filterwarnings('ignore')\n",
    "warnings.simplefilter('ignore')"
   ]
  },
  {
   "cell_type": "code",
   "execution_count": null,
   "metadata": {},
   "outputs": [],
   "source": [
    "def clean_text(text):\n",
    "    return text\n",
    "\n",
    "def qwen2(message):\n",
    "    client = Client(\"Qwen/Qwen2-57b-a14b-instruct-demo\")\n",
    "    result = client.predict(\n",
    "        query=message,\n",
    "        history=[],\n",
    "        system=\n",
    "            f\"\"\"\n",
    "            Saya ingin mendapatkan penjelasan mendalam tentang taksonomi dan klasifikasi plankton {message}. Berikut adalah beberapa aspek utama yang perlu dijelaskan:  \n",
    "            1. *Hierarki Taksonomi dalam Plankton:*\n",
    "            2. *Kelompok Utama Plankton Berdasarkan Taksonomi:*  \n",
    "            3. *Klasifikasi Plankton Berdasarkan Kemampuan Bergerak:*  \n",
    "            4. *Klasifikasi Berdasarkan Habitat:*  \n",
    "            5. *Klasifikasi Berdasarkan Siklus Hidup:*  \n",
    "            6. *Klasifikasi Berdasarkan Fungsi dalam Ekosistem:*  \n",
    "            7. *Klasifikasi Berdasarkan Ukuran:*  \n",
    "            \"\"\",\n",
    "        api_name=\"/model_chat\"\n",
    "    )\n",
    "    return result[1][0][1]\n",
    "\n",
    "def deepseek(message):\n",
    "    client = Client(\"Abubekersiraj/Deepseek\")\n",
    "    result = client.predict(\n",
    "        message=message,\n",
    "        system_message=f\"\"\"\n",
    "            Saya ingin mendapatkan penjelasan mendalam tentang taksonomi dan klasifikasi plankton {message}. Berikut adalah beberapa aspek utama yang perlu dijelaskan:  \n",
    "            1. *Hierarki Taksonomi dalam Plankton:*\n",
    "            2. *Kelompok Utama Plankton Berdasarkan Taksonomi:*  \n",
    "            3. *Klasifikasi Plankton Berdasarkan Kemampuan Bergerak:*  \n",
    "            4. *Klasifikasi Berdasarkan Habitat:*  \n",
    "            5. *Klasifikasi Berdasarkan Siklus Hidup:*  \n",
    "            6. *Klasifikasi Berdasarkan Fungsi dalam Ekosistem:*  \n",
    "            7. *Klasifikasi Berdasarkan Ukuran:*  \n",
    "            \"\"\",\n",
    "        max_tokens=2048,\n",
    "        temperature=0.1,\n",
    "        top_p=0.95,\n",
    "        api_name=\"/chat\"\n",
    "    )\n",
    "    return result"
   ]
  },
  {
   "cell_type": "code",
   "execution_count": null,
   "metadata": {},
   "outputs": [],
   "source": [
    "def predict_img(model_option, llm_option, img_path):\n",
    "    if model_option == \"yolov8-detect\":\n",
    "        model = YOLO(\"../model/yolov8-detect.pt\")\n",
    "    elif model_option == \"yolov8-acvit\":\n",
    "        model = YOLO(\"../model/yolov8-acvit.pt\")\n",
    "    else:\n",
    "        return \"Model tidak ditemukan\"\n",
    "    \n",
    "    img = cv2.imread(img_path)\n",
    "    img = cv2.resize(img, (864, 576))\n",
    "\n",
    "    results = model(img)\n",
    "\n",
    "    cv2.imwrite(\n",
    "        filename=\"static/uploads/detect_img.jpg\", \n",
    "        img=cv2.cvtColor(results[0].plot(), cv2.COLOR_BGR2RGB)\n",
    "    )\n",
    "\n",
    "    detected_classes = [model.names[int(box.cls)] for box in results[0].boxes]\n",
    "    confidences = [float(box.conf) for box in results[0].boxes]\n",
    "\n",
    "    if llm_option == \"qwen\":\n",
    "        response = clean_text(qwen2(detected_classes))\n",
    "    elif llm_option == \"deepseek\":\n",
    "        response = clean_text(deepseek(detected_classes))\n",
    "    else:\n",
    "        response = \"Pilih model LLM yang sesuai.\"\n",
    "\n",
    "    return detected_classes, confidences, response"
   ]
  },
  {
   "cell_type": "code",
   "execution_count": 5,
   "metadata": {},
   "outputs": [
    {
     "name": "stdout",
     "output_type": "stream",
     "text": [
      "\n",
      "0: 448x640 1 noctilluca_scintillans, 249.4ms\n",
      "Speed: 12.1ms preprocess, 249.4ms inference, 8.2ms postprocess per image at shape (1, 3, 448, 640)\n",
      "Loaded as API: https://qwen-qwen2-57b-a14b-instruct-demo.hf.space ✔\n"
     ]
    }
   ],
   "source": [
    "detected_classes, confidences, response = predict_img(\"yolov8-detect\", \"qwen\", \"noctilluca_scintillans.jpg\")"
   ]
  }
 ],
 "metadata": {
  "kernelspec": {
   "display_name": "base",
   "language": "python",
   "name": "python3"
  },
  "language_info": {
   "codemirror_mode": {
    "name": "ipython",
    "version": 3
   },
   "file_extension": ".py",
   "mimetype": "text/x-python",
   "name": "python",
   "nbconvert_exporter": "python",
   "pygments_lexer": "ipython3",
   "version": "3.12.7"
  }
 },
 "nbformat": 4,
 "nbformat_minor": 2
}
