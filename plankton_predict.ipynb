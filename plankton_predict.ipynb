{
 "cells": [
  {
   "cell_type": "code",
   "execution_count": 65,
   "metadata": {},
   "outputs": [],
   "source": [
    "import matplotlib.pyplot as plt\n",
    "import os\n",
    "import random\n",
    "import pandas as pd\n",
    "import matplotlib.image as mpimg\n",
    "import seaborn as sns\n",
    "import torch    \n",
    "import cv2\n",
    "import numpy as np\n",
    "import requests\n",
    "import io\n",
    "import squarify\n",
    "import yaml\n",
    "import torchvision.transforms as transforms\n",
    "import warnings\n",
    "import google.generativeai as genai\n",
    "import firebase_admin\n",
    "import logging\n",
    "import tempfile\n",
    "\n",
    "from urllib.parse import urlparse\n",
    "from firebase_admin import credentials, firestore, storage\n",
    "from ultralytics import YOLO\n",
    "from gradio_client import Client\n",
    "\n",
    "random.seed(42)\n",
    "np.random.seed(42)\n",
    "warnings.filterwarnings('ignore')\n",
    "warnings.simplefilter('ignore')"
   ]
  },
  {
   "cell_type": "code",
   "execution_count": null,
   "metadata": {},
   "outputs": [],
   "source": [
    "cred = credentials.Certificate(\"credential/all_credential.json\")\n",
    "firebase_admin.initialize_app(cred) if not firebase_admin._apps else firebase_admin.get_app()\n",
    "\n",
    "logging.basicConfig(level=logging.INFO)\n",
    "logger = logging.getLogger(__name__)"
   ]
  },
  {
   "cell_type": "code",
   "execution_count": 50,
   "metadata": {},
   "outputs": [
    {
     "name": "stderr",
     "output_type": "stream",
     "text": [
      "INFO:__main__:Connected to Firestore successfully.\n"
     ]
    }
   ],
   "source": [
    "try:\n",
    "    db = firestore.client()\n",
    "    bucket = storage.bucket(name='planktosee-temp-file')\n",
    "    bucket.make_public()\n",
    "    logger.info(\"Connected to Firestore successfully.\")\n",
    "except Exception as e:\n",
    "    logger.error(f\"Error connecting to Firestore: {e}\")"
   ]
  },
  {
   "cell_type": "code",
   "execution_count": null,
   "metadata": {},
   "outputs": [],
   "source": [
    "def extract_gcs_path(image_url):\n",
    "    parsed_url = urlparse(image_url)\n",
    "    path_parts = parsed_url.path.lstrip(\"/\").split(\"/\", 1)\n",
    "    \n",
    "    if len(path_parts) > 1:\n",
    "        return path_parts[1] \n",
    "    return None  \n",
    "\n",
    "def load_image_from_firebase(image_url):\n",
    "    gcs_path = extract_gcs_path(image_url)\n",
    "    if not gcs_path:\n",
    "        raise ValueError(f\"Invalid GCS URL: {image_url}\")\n",
    "\n",
    "    blob = bucket.blob(gcs_path)\n",
    "\n",
    "    with tempfile.NamedTemporaryFile(delete=False, suffix=\".jpg\") as temp_file:\n",
    "        temp_file_path = temp_file.name \n",
    "\n",
    "    blob.download_to_filename(temp_file_path)\n",
    "    \n",
    "    return temp_file_path "
   ]
  },
  {
   "cell_type": "code",
   "execution_count": null,
   "metadata": {},
   "outputs": [],
   "source": [
    "import tempfile\n",
    "\n",
    "def load_image_from_firebase(image_url):\n",
    "    blob = bucket.blob(image_url)\n",
    "\n",
    "    with tempfile.NamedTemporaryFile(delete=False, suffix=\".jpg\") as temp_file:\n",
    "        blob.download_to_filename(temp_file.name)\n",
    "        temp_file_path = temp_file.name \n",
    "\n",
    "    return temp_file_path "
   ]
  },
  {
   "cell_type": "code",
   "execution_count": null,
   "metadata": {},
   "outputs": [],
   "source": [
    "def load_text_from_firebase(text_url):\n",
    "    response = requests.get(text_url)\n",
    "    \n",
    "    if response.status_code == 200:\n",
    "        text = response.text\n",
    "    else:\n",
    "        logger.error(f\"Failed to load text from Firebase: {response.status_code}\")\n",
    "    return text"
   ]
  },
  {
   "cell_type": "code",
   "execution_count": null,
   "metadata": {},
   "outputs": [
    {
     "data": {
      "text/plain": [
       "'https://storage.googleapis.com/planktosee-temp-file/images/signature.png'"
      ]
     },
     "execution_count": 51,
     "metadata": {},
     "output_type": "execute_result"
    }
   ],
   "source": [
    "def upload_image_to_firebase(image_path):\n",
    "    blob = bucket.blob('images/' + os.path.basename(image_path))\n",
    "    blob.upload_from_filename(image_path)\n",
    "    blob.make_public()\n",
    "    return blob.public_url"
   ]
  },
  {
   "cell_type": "code",
   "execution_count": null,
   "metadata": {},
   "outputs": [
    {
     "name": "stderr",
     "output_type": "stream",
     "text": [
      "INFO:__main__:Image signature.png removed from Firebase Storage.\n"
     ]
    }
   ],
   "source": [
    "def remove_image_from_firebase(image_path):\n",
    "    blob = bucket.blob('images/' + os.path.basename(image_path))\n",
    "    blob.delete()\n",
    "    logger.info(f\"Image {image_path} removed from Firebase Storage.\")"
   ]
  },
  {
   "cell_type": "code",
   "execution_count": null,
   "metadata": {},
   "outputs": [
    {
     "name": "stdout",
     "output_type": "stream",
     "text": [
      "Loaded as API: https://abubekersiraj-deepseek.hf.space ✔\n"
     ]
    },
    {
     "name": "stderr",
     "output_type": "stream",
     "text": [
      "INFO:httpx:HTTP Request: GET https://abubekersiraj-deepseek.hf.space/config \"HTTP/1.1 200 OK\"\n",
      "INFO:httpx:HTTP Request: GET https://abubekersiraj-deepseek.hf.space/gradio_api/info?serialize=False \"HTTP/1.1 200 OK\"\n",
      "INFO:httpx:HTTP Request: GET https://abubekersiraj-deepseek.hf.space/gradio_api/heartbeat/57eec3c5-fd98-4fb5-a5cd-017707d5dc48 \"HTTP/1.1 200 OK\"\n",
      "INFO:httpx:HTTP Request: POST https://abubekersiraj-deepseek.hf.space/gradio_api/queue/join \"HTTP/1.1 200 OK\"\n",
      "INFO:httpx:HTTP Request: GET https://abubekersiraj-deepseek.hf.space/gradio_api/queue/data?session_hash=57eec3c5-fd98-4fb5-a5cd-017707d5dc48 \"HTTP/1.1 200 OK\"\n"
     ]
    },
    {
     "data": {
      "text/plain": [
       "'Plankton refers to a diverse group of organisms that float or drift passively in aquatic environments, including oceans, lakes, and rivers. These organisms are not capable of active swimming and are carried by water currents. Plankton play a crucial role in aquatic ecosystems as they form the base of many marine food webs and contribute significantly to the global carbon and nutrient cycles.\\n\\n1. Hierarchy of Taxonomy in Plankton:\\n\\nPlankton can be classified into different taxonomic groups based on their evolutionary relationships. The hierarchy of taxonomy for plankton includes:\\n\\n- Kingdom: Planktonic organisms belong to different kingdoms, including Protista, Plantae, Animalia, and Bacteria.\\n- Phylum: Within each kingdom, planktonic organisms are classified into different phyla based on their morphological and physiological characteristics.\\n- Class: Each phylum is further divided into classes based on shared characteristics.\\n- Order: Orders are groups of related classes.\\n- Family: Families are groups of related orders.\\n- Genus: Genus refers to a group of related species.\\n- Species: Species are groups of organisms that share similar characteristics and can interbreed.\\n\\n2. Major Groups of Plankton based on Taxonomy:\\n\\na) Protista: This group includes unicellular organisms that are not plants, animals, or fungi. Planktonic protists include diatoms, dinoflagellates, and ciliates.\\n\\nb) Plantae: This group includes multicellular organisms that are capable of photosynthesis. Planktonic plants include phytoplankton, such as diatoms, dinoflagellates, and coccolithophores.\\n\\nc) Animalia: This group includes multicellular organisms that are not plants or fungi. Planktonic animals include zooplankton, such as copepods, krill, and jellyfish.\\n\\nd) Bacteria: This group includes unicellular organisms that lack a true nucleus or organelles. Planktonic bacteria include cyanobacteria, which are capable of photosynthesis, and heterotrophic bacteria, which obtain nutrients from other organisms.\\n\\n3. Classification based on Mobility:\\n\\nPlanktonic organisms can be classified based on their ability to move actively.\\n\\na) Nekton: These organisms are capable of active swimming and can move against the water current. Examples include fish, squid, and jellyfish.\\n\\nb) Nektobenthos: These organisms are capable of both active swimming and attachment to the seafloor. Examples include some species of crabs and lobsters.\\n\\nc) Benthos: These organisms are attached to the seafloor and cannot move actively. Examples include barnacles, mussels, and starfish.\\n\\nd) Plankton: These organisms are not capable of active swimming and are carried by water currents.\\n\\n4. Classification based on Habitat:\\n\\nPlanktonic organisms can be classified based on their preferred habitat.\\n\\na) Pelagic: These organisms are found in the open water column and are not attached to the seafloor.\\n\\nb) Benthopelagic: These organisms are found both in the open water column and attached to the seafloor.\\n\\nc) Benthic: These organisms are attached to the seafloor.\\n\\n5. Classification based on Life Cycle:\\n\\nPlanktonic organisms can be classified based on their life cycle.\\n\\na) Holoplankton: These organisms spend their entire life cycle in the planktonic stage.\\n\\nb) Meroplankton: These organisms spend only a portion of their life cycle in the planktonic stage.\\n\\n6. Classification based on Function in the Ecosystem:\\n\\nPlanktonic organisms can be classified based on their role in the ecosystem.\\n\\na) Autotrophs: These organisms are capable of photosynthesis and produce their own food.\\n\\nb) Heterotrophs: These organisms obtain nutrients from other organisms and cannot produce their own food.\\n\\n7. Classification based on Size:\\n\\nPlanktonic organisms can be classified based on their size.\\n\\na) Picoplankton: These organisms are less than 2 micrometers in size.\\n\\nb) Nanoplankton: These organisms are between 2 and 20 micrometers in size.\\n\\nc) Microplankton: These organisms are between 20 and 200 micrometers in size.\\n\\nd) Mesoplankton: These organisms are between 200 and 2,000 micrometers in size.\\n\\ne) Macroplankton: These organisms are greater than 2,000 micrometers in size.\\n\\nIn conclusion, planktonic organisms can be classified using various criteria, including taxonomy, mobility, habitat, life cycle, function in the ecosystem, and size. Understanding the classification of planktonic organisms is essential for studying their ecological roles and contributions to aquatic ecosystems.'"
      ]
     },
     "execution_count": 71,
     "metadata": {},
     "output_type": "execute_result"
    }
   ],
   "source": [
    "def gemini(message):\n",
    "    genai.configure(api_key=\"\")\n",
    "\n",
    "    chatbot = genai.GenerativeModel(\"gemini-1.5-flash-002\")\n",
    "    system = f\"\"\"\n",
    "        Saya ingin mendapatkan penjelasan mendalam tentang taksonomi dan klasifikasi plankton {message}. Berikut adalah beberapa aspek utama yang perlu dijelaskan:  \n",
    "        1. *Hierarki Taksonomi dalam Plankton:*\n",
    "        2. *Kelompok Utama Plankton Berdasarkan Taksonomi:*  \n",
    "        3. *Klasifikasi Plankton Berdasarkan Kemampuan Bergerak:*  \n",
    "        4. *Klasifikasi Berdasarkan Habitat:*  \n",
    "        5. *Klasifikasi Berdasarkan Siklus Hidup:*  \n",
    "        6. *Klasifikasi Berdasarkan Fungsi dalam Ekosistem:*  \n",
    "        7. *Klasifikasi Berdasarkan Ukuran:*  \n",
    "        \"\"\"\n",
    "    response = chatbot.generate_content(system)\n",
    "    return response.text\n",
    "\n",
    "def qwen2(message):\n",
    "    client = Client(\"Qwen/Qwen2-57b-a14b-instruct-demo\")\n",
    "    result = client.predict(\n",
    "        query=message,\n",
    "        history=[],\n",
    "        system=\n",
    "            f\"\"\"\n",
    "            Saya ingin mendapatkan penjelasan mendalam tentang taksonomi dan klasifikasi plankton {message}. Berikut adalah beberapa aspek utama yang perlu dijelaskan:  \n",
    "            1. *Hierarki Taksonomi dalam Plankton:*\n",
    "            2. *Kelompok Utama Plankton Berdasarkan Taksonomi:*  \n",
    "            3. *Klasifikasi Plankton Berdasarkan Kemampuan Bergerak:*  \n",
    "            4. *Klasifikasi Berdasarkan Habitat:*  \n",
    "            5. *Klasifikasi Berdasarkan Siklus Hidup:*  \n",
    "            6. *Klasifikasi Berdasarkan Fungsi dalam Ekosistem:*  \n",
    "            7. *Klasifikasi Berdasarkan Ukuran:*  \n",
    "            \"\"\",\n",
    "        api_name=\"/model_chat\"\n",
    "    )\n",
    "    return result[1][0][1]\n",
    "\n",
    "def deepseek(message):\n",
    "    client = Client(\"Abubekersiraj/Deepseek\")\n",
    "    result = client.predict(\n",
    "        message=message,\n",
    "        system_message=f\"\"\"\n",
    "            Saya ingin mendapatkan penjelasan mendalam tentang taksonomi dan klasifikasi plankton {message}. Berikut adalah beberapa aspek utama yang perlu dijelaskan:  \n",
    "            1. *Hierarki Taksonomi dalam Plankton:*\n",
    "            2. *Kelompok Utama Plankton Berdasarkan Taksonomi:*  \n",
    "            3. *Klasifikasi Plankton Berdasarkan Kemampuan Bergerak:*  \n",
    "            4. *Klasifikasi Berdasarkan Habitat:*  \n",
    "            5. *Klasifikasi Berdasarkan Siklus Hidup:*  \n",
    "            6. *Klasifikasi Berdasarkan Fungsi dalam Ekosistem:*  \n",
    "            7. *Klasifikasi Berdasarkan Ukuran:*  \n",
    "            \"\"\",\n",
    "        max_tokens=2048,\n",
    "        temperature=0.1,\n",
    "        top_p=0.95,\n",
    "        api_name=\"/chat\"\n",
    "    )\n",
    "    return result\n",
    "\n",
    "deepseek(\"Plankton\")"
   ]
  },
  {
   "cell_type": "code",
   "execution_count": null,
   "metadata": {},
   "outputs": [],
   "source": [
    "def predict_img(model_option, llm_option, img_path):\n",
    "    if model_option == \"yolov8-detect\":\n",
    "        model = YOLO(\"../model/yolov8-detect.pt\")\n",
    "    elif model_option == \"yolov8-acvit\":\n",
    "        model = YOLO(\"../model/yolov8-acvit.pt\")\n",
    "    else:\n",
    "        return \"Model tidak ditemukan\"\n",
    "    \n",
    "    img = cv2.imread(img_path)\n",
    "    img = cv2.resize(img, (864, 576))\n",
    "\n",
    "    results = model(img)\n",
    "\n",
    "    cv2.imwrite(\n",
    "        filename=\"static/uploads/detect_img.jpg\", \n",
    "        img=cv2.cvtColor(results[0].plot(), cv2.COLOR_BGR2RGB)\n",
    "    )\n",
    "\n",
    "    detected_classes = [model.names[int(box.cls)] for box in results[0].boxes]\n",
    "    confidences = [float(box.conf) for box in results[0].boxes]\n",
    "\n",
    "    if llm_option == \"qwen\":\n",
    "        response = clean_text(qwen2(detected_classes))\n",
    "    elif llm_option == \"deepseek\":\n",
    "        response = clean_text(deepseek(detected_classes))\n",
    "    else:\n",
    "        response = \"Pilih model LLM yang sesuai.\"\n",
    "\n",
    "    return detected_classes, confidences, response"
   ]
  },
  {
   "cell_type": "code",
   "execution_count": 5,
   "metadata": {},
   "outputs": [
    {
     "name": "stdout",
     "output_type": "stream",
     "text": [
      "\n",
      "0: 448x640 1 noctilluca_scintillans, 249.4ms\n",
      "Speed: 12.1ms preprocess, 249.4ms inference, 8.2ms postprocess per image at shape (1, 3, 448, 640)\n",
      "Loaded as API: https://qwen-qwen2-57b-a14b-instruct-demo.hf.space ✔\n"
     ]
    }
   ],
   "source": [
    "detected_classes, confidences, response = predict_img(\"yolov8-detect\", \"qwen\", \"noctilluca_scintillans.jpg\")"
   ]
  }
 ],
 "metadata": {
  "kernelspec": {
   "display_name": "base",
   "language": "python",
   "name": "python3"
  },
  "language_info": {
   "codemirror_mode": {
    "name": "ipython",
    "version": 3
   },
   "file_extension": ".py",
   "mimetype": "text/x-python",
   "name": "python",
   "nbconvert_exporter": "python",
   "pygments_lexer": "ipython3",
   "version": "3.12.7"
  }
 },
 "nbformat": 4,
 "nbformat_minor": 2
}
